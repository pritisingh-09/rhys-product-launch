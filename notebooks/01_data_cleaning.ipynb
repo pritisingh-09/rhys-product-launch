{
  "nbformat": 4,
  "nbformat_minor": 0,
  "metadata": {
    "colab": {
      "provenance": []
    },
    "kernelspec": {
      "name": "python3",
      "display_name": "Python 3"
    },
    "language_info": {
      "name": "python"
    }
  },
  "cells": [
    {
      "cell_type": "code",
      "execution_count": 1,
      "metadata": {
        "id": "gPYa4gP6efKZ"
      },
      "outputs": [],
      "source": [
        "import pandas as pd\n",
        "\n",
        "# Load raw data\n",
        "df = pd.read_csv('rhys_sales_data.csv')\n",
        "\n",
        "# Basic cleaning\n",
        "df['Date'] = pd.to_datetime(df['Date'])\n",
        "df.drop_duplicates(inplace=True)\n",
        "\n",
        "# Add Month-Year\n",
        "df['Month-Year'] = df['Date'].dt.strftime('%b-%Y')\n",
        "\n",
        "# Handle returns\n",
        "df['Revenue_After_Returns'] = df.apply(lambda x: 0 if x['Return_Flag']==1 else x['Revenue'], axis=1)\n",
        "\n",
        "# Profit Margin\n",
        "df['Profit_Margin'] = df['Profit'] / df['Revenue']\n",
        "df['Profit_Margin'] = df['Profit_Margin'].fillna(0)\n",
        "\n",
        "# Save cleaned dataset\n",
        "df.to_csv('rhys_sales_cleaned.csv', index=False)\n"
      ]
    },
    {
      "cell_type": "code",
      "source": [],
      "metadata": {
        "id": "BPhRcJ9XfD40"
      },
      "execution_count": null,
      "outputs": []
    }
  ]
}